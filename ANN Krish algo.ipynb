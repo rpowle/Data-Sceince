{
 "cells": [
  {
   "cell_type": "code",
   "execution_count": 2,
   "metadata": {},
   "outputs": [],
   "source": [
    "import numpy as np\n",
    "import matplotlib.pyplot as plt\n",
    "import pandas as pd"
   ]
  },
  {
   "cell_type": "code",
   "execution_count": 5,
   "metadata": {},
   "outputs": [],
   "source": [
    "data=pd.read_csv(\"D:\\RAJ\\AI\\datasets_13214_17927_Churn_Modelling.csv\")"
   ]
  },
  {
   "cell_type": "code",
   "execution_count": 6,
   "metadata": {},
   "outputs": [
    {
     "data": {
      "text/plain": [
       "(10000, 14)"
      ]
     },
     "execution_count": 6,
     "metadata": {},
     "output_type": "execute_result"
    }
   ],
   "source": [
    "data.shape"
   ]
  },
  {
   "cell_type": "code",
   "execution_count": 9,
   "metadata": {},
   "outputs": [
    {
     "data": {
      "text/plain": [
       "<bound method NDFrame.head of       RowNumber  CustomerId    Surname  CreditScore Geography  Gender  Age  \\\n",
       "0             1    15634602   Hargrave          619    France  Female   42   \n",
       "1             2    15647311       Hill          608     Spain  Female   41   \n",
       "2             3    15619304       Onio          502    France  Female   42   \n",
       "3             4    15701354       Boni          699    France  Female   39   \n",
       "4             5    15737888   Mitchell          850     Spain  Female   43   \n",
       "...         ...         ...        ...          ...       ...     ...  ...   \n",
       "9995       9996    15606229   Obijiaku          771    France    Male   39   \n",
       "9996       9997    15569892  Johnstone          516    France    Male   35   \n",
       "9997       9998    15584532        Liu          709    France  Female   36   \n",
       "9998       9999    15682355  Sabbatini          772   Germany    Male   42   \n",
       "9999      10000    15628319     Walker          792    France  Female   28   \n",
       "\n",
       "      Tenure    Balance  NumOfProducts  HasCrCard  IsActiveMember  \\\n",
       "0          2       0.00              1          1               1   \n",
       "1          1   83807.86              1          0               1   \n",
       "2          8  159660.80              3          1               0   \n",
       "3          1       0.00              2          0               0   \n",
       "4          2  125510.82              1          1               1   \n",
       "...      ...        ...            ...        ...             ...   \n",
       "9995       5       0.00              2          1               0   \n",
       "9996      10   57369.61              1          1               1   \n",
       "9997       7       0.00              1          0               1   \n",
       "9998       3   75075.31              2          1               0   \n",
       "9999       4  130142.79              1          1               0   \n",
       "\n",
       "      EstimatedSalary  Exited  \n",
       "0           101348.88       1  \n",
       "1           112542.58       0  \n",
       "2           113931.57       1  \n",
       "3            93826.63       0  \n",
       "4            79084.10       0  \n",
       "...               ...     ...  \n",
       "9995         96270.64       0  \n",
       "9996        101699.77       0  \n",
       "9997         42085.58       1  \n",
       "9998         92888.52       1  \n",
       "9999         38190.78       0  \n",
       "\n",
       "[10000 rows x 14 columns]>"
      ]
     },
     "execution_count": 9,
     "metadata": {},
     "output_type": "execute_result"
    }
   ],
   "source": [
    "data.head\n"
   ]
  },
  {
   "cell_type": "code",
   "execution_count": 12,
   "metadata": {},
   "outputs": [],
   "source": [
    "x=data.iloc[:,3:13]\n",
    "y=data.iloc[:,13]"
   ]
  },
  {
   "cell_type": "code",
   "execution_count": 13,
   "metadata": {},
   "outputs": [
    {
     "data": {
      "text/plain": [
       "(10000, 10)"
      ]
     },
     "execution_count": 13,
     "metadata": {},
     "output_type": "execute_result"
    }
   ],
   "source": [
    "x.shape"
   ]
  },
  {
   "cell_type": "code",
   "execution_count": 14,
   "metadata": {},
   "outputs": [
    {
     "data": {
      "text/plain": [
       "(10000,)"
      ]
     },
     "execution_count": 14,
     "metadata": {},
     "output_type": "execute_result"
    }
   ],
   "source": [
    "y.shape"
   ]
  },
  {
   "cell_type": "code",
   "execution_count": 25,
   "metadata": {},
   "outputs": [
    {
     "data": {
      "text/html": [
       "<div>\n",
       "<style scoped>\n",
       "    .dataframe tbody tr th:only-of-type {\n",
       "        vertical-align: middle;\n",
       "    }\n",
       "\n",
       "    .dataframe tbody tr th {\n",
       "        vertical-align: top;\n",
       "    }\n",
       "\n",
       "    .dataframe thead th {\n",
       "        text-align: right;\n",
       "    }\n",
       "</style>\n",
       "<table border=\"1\" class=\"dataframe\">\n",
       "  <thead>\n",
       "    <tr style=\"text-align: right;\">\n",
       "      <th></th>\n",
       "      <th>Germany</th>\n",
       "      <th>Spain</th>\n",
       "    </tr>\n",
       "  </thead>\n",
       "  <tbody>\n",
       "    <tr>\n",
       "      <th>0</th>\n",
       "      <td>0</td>\n",
       "      <td>0</td>\n",
       "    </tr>\n",
       "    <tr>\n",
       "      <th>1</th>\n",
       "      <td>0</td>\n",
       "      <td>1</td>\n",
       "    </tr>\n",
       "    <tr>\n",
       "      <th>2</th>\n",
       "      <td>0</td>\n",
       "      <td>0</td>\n",
       "    </tr>\n",
       "    <tr>\n",
       "      <th>3</th>\n",
       "      <td>0</td>\n",
       "      <td>0</td>\n",
       "    </tr>\n",
       "    <tr>\n",
       "      <th>4</th>\n",
       "      <td>0</td>\n",
       "      <td>1</td>\n",
       "    </tr>\n",
       "    <tr>\n",
       "      <th>...</th>\n",
       "      <td>...</td>\n",
       "      <td>...</td>\n",
       "    </tr>\n",
       "    <tr>\n",
       "      <th>9995</th>\n",
       "      <td>0</td>\n",
       "      <td>0</td>\n",
       "    </tr>\n",
       "    <tr>\n",
       "      <th>9996</th>\n",
       "      <td>0</td>\n",
       "      <td>0</td>\n",
       "    </tr>\n",
       "    <tr>\n",
       "      <th>9997</th>\n",
       "      <td>0</td>\n",
       "      <td>0</td>\n",
       "    </tr>\n",
       "    <tr>\n",
       "      <th>9998</th>\n",
       "      <td>1</td>\n",
       "      <td>0</td>\n",
       "    </tr>\n",
       "    <tr>\n",
       "      <th>9999</th>\n",
       "      <td>0</td>\n",
       "      <td>0</td>\n",
       "    </tr>\n",
       "  </tbody>\n",
       "</table>\n",
       "<p>10000 rows × 2 columns</p>\n",
       "</div>"
      ],
      "text/plain": [
       "      Germany  Spain\n",
       "0           0      0\n",
       "1           0      1\n",
       "2           0      0\n",
       "3           0      0\n",
       "4           0      1\n",
       "...       ...    ...\n",
       "9995        0      0\n",
       "9996        0      0\n",
       "9997        0      0\n",
       "9998        1      0\n",
       "9999        0      0\n",
       "\n",
       "[10000 rows x 2 columns]"
      ]
     },
     "execution_count": 25,
     "metadata": {},
     "output_type": "execute_result"
    }
   ],
   "source": [
    "geography=pd.get_dummies(x[\"Geography\"],drop_first=True)\n",
    "gender=pd.get_dummies(x['Gender'],drop_first=True)\n",
    "geography"
   ]
  },
  {
   "cell_type": "code",
   "execution_count": 20,
   "metadata": {},
   "outputs": [
    {
     "data": {
      "text/plain": [
       "(10000, 10)"
      ]
     },
     "execution_count": 20,
     "metadata": {},
     "output_type": "execute_result"
    }
   ],
   "source": [
    "x.shape"
   ]
  },
  {
   "cell_type": "code",
   "execution_count": 21,
   "metadata": {},
   "outputs": [
    {
     "data": {
      "text/plain": [
       "<bound method NDFrame.head of       CreditScore Geography  Gender  Age  Tenure    Balance  NumOfProducts  \\\n",
       "0             619    France  Female   42       2       0.00              1   \n",
       "1             608     Spain  Female   41       1   83807.86              1   \n",
       "2             502    France  Female   42       8  159660.80              3   \n",
       "3             699    France  Female   39       1       0.00              2   \n",
       "4             850     Spain  Female   43       2  125510.82              1   \n",
       "...           ...       ...     ...  ...     ...        ...            ...   \n",
       "9995          771    France    Male   39       5       0.00              2   \n",
       "9996          516    France    Male   35      10   57369.61              1   \n",
       "9997          709    France  Female   36       7       0.00              1   \n",
       "9998          772   Germany    Male   42       3   75075.31              2   \n",
       "9999          792    France  Female   28       4  130142.79              1   \n",
       "\n",
       "      HasCrCard  IsActiveMember  EstimatedSalary  \n",
       "0             1               1        101348.88  \n",
       "1             0               1        112542.58  \n",
       "2             1               0        113931.57  \n",
       "3             0               0         93826.63  \n",
       "4             1               1         79084.10  \n",
       "...         ...             ...              ...  \n",
       "9995          1               0         96270.64  \n",
       "9996          1               1        101699.77  \n",
       "9997          0               1         42085.58  \n",
       "9998          1               0         92888.52  \n",
       "9999          1               0         38190.78  \n",
       "\n",
       "[10000 rows x 10 columns]>"
      ]
     },
     "execution_count": 21,
     "metadata": {},
     "output_type": "execute_result"
    }
   ],
   "source": [
    "x.head"
   ]
  },
  {
   "cell_type": "code",
   "execution_count": 27,
   "metadata": {},
   "outputs": [],
   "source": [
    "x=pd.concat([x,geography,gender],axis=1)"
   ]
  },
  {
   "cell_type": "code",
   "execution_count": 31,
   "metadata": {},
   "outputs": [],
   "source": [
    "x=x.drop(['Geography','Gender'], axis=1)"
   ]
  },
  {
   "cell_type": "code",
   "execution_count": 32,
   "metadata": {},
   "outputs": [],
   "source": [
    "from sklearn.model_selection import train_test_split\n",
    "x_train, x_test, y_train, y_test = train_test_split(x, y, test_size = 0.2, random_state = 0)"
   ]
  },
  {
   "cell_type": "code",
   "execution_count": 33,
   "metadata": {},
   "outputs": [
    {
     "data": {
      "text/plain": [
       "(8000, 11)"
      ]
     },
     "execution_count": 33,
     "metadata": {},
     "output_type": "execute_result"
    }
   ],
   "source": [
    "x_train.shape"
   ]
  },
  {
   "cell_type": "code",
   "execution_count": 34,
   "metadata": {},
   "outputs": [
    {
     "data": {
      "text/plain": [
       "(8000,)"
      ]
     },
     "execution_count": 34,
     "metadata": {},
     "output_type": "execute_result"
    }
   ],
   "source": [
    "y_train.shape"
   ]
  },
  {
   "cell_type": "code",
   "execution_count": 35,
   "metadata": {},
   "outputs": [],
   "source": [
    "from sklearn.preprocessing import StandardScaler"
   ]
  },
  {
   "cell_type": "code",
   "execution_count": 36,
   "metadata": {},
   "outputs": [],
   "source": [
    "sc=StandardScaler()\n"
   ]
  },
  {
   "cell_type": "code",
   "execution_count": 37,
   "metadata": {},
   "outputs": [],
   "source": [
    "x_train=sc.fit_transform(x_train)\n",
    "x_test = sc.transform(x_test)"
   ]
  },
  {
   "cell_type": "code",
   "execution_count": 38,
   "metadata": {},
   "outputs": [
    {
     "data": {
      "text/plain": [
       "(8000, 11)"
      ]
     },
     "execution_count": 38,
     "metadata": {},
     "output_type": "execute_result"
    }
   ],
   "source": [
    "x_train.shape"
   ]
  },
  {
   "cell_type": "code",
   "execution_count": 40,
   "metadata": {},
   "outputs": [
    {
     "data": {
      "text/plain": [
       "array([[ 0.16958176, -0.46460796,  0.00666099, ..., -0.5698444 ,\n",
       "         1.74309049, -1.09168714],\n",
       "       [-2.30455945,  0.30102557, -1.37744033, ...,  1.75486502,\n",
       "        -0.57369368,  0.91601335],\n",
       "       [-1.19119591, -0.94312892, -1.031415  , ..., -0.5698444 ,\n",
       "        -0.57369368, -1.09168714],\n",
       "       ...,\n",
       "       [ 0.9015152 , -0.36890377,  0.00666099, ..., -0.5698444 ,\n",
       "        -0.57369368,  0.91601335],\n",
       "       [-0.62420521, -0.08179119,  1.39076231, ..., -0.5698444 ,\n",
       "         1.74309049, -1.09168714],\n",
       "       [-0.28401079,  0.87525072, -1.37744033, ...,  1.75486502,\n",
       "        -0.57369368, -1.09168714]])"
      ]
     },
     "execution_count": 40,
     "metadata": {},
     "output_type": "execute_result"
    }
   ],
   "source": [
    "x_train"
   ]
  },
  {
   "cell_type": "code",
   "execution_count": 41,
   "metadata": {},
   "outputs": [
    {
     "name": "stderr",
     "output_type": "stream",
     "text": [
      "Using TensorFlow backend.\n",
      "D:\\UserGuidePDF\\Anaconda\\lib\\site-packages\\tensorflow\\python\\framework\\dtypes.py:523: FutureWarning: Passing (type, 1) or '1type' as a synonym of type is deprecated; in a future version of numpy, it will be understood as (type, (1,)) / '(1,)type'.\n",
      "  _np_qint8 = np.dtype([(\"qint8\", np.int8, 1)])\n",
      "D:\\UserGuidePDF\\Anaconda\\lib\\site-packages\\tensorflow\\python\\framework\\dtypes.py:524: FutureWarning: Passing (type, 1) or '1type' as a synonym of type is deprecated; in a future version of numpy, it will be understood as (type, (1,)) / '(1,)type'.\n",
      "  _np_quint8 = np.dtype([(\"quint8\", np.uint8, 1)])\n",
      "D:\\UserGuidePDF\\Anaconda\\lib\\site-packages\\tensorflow\\python\\framework\\dtypes.py:525: FutureWarning: Passing (type, 1) or '1type' as a synonym of type is deprecated; in a future version of numpy, it will be understood as (type, (1,)) / '(1,)type'.\n",
      "  _np_qint16 = np.dtype([(\"qint16\", np.int16, 1)])\n",
      "D:\\UserGuidePDF\\Anaconda\\lib\\site-packages\\tensorflow\\python\\framework\\dtypes.py:526: FutureWarning: Passing (type, 1) or '1type' as a synonym of type is deprecated; in a future version of numpy, it will be understood as (type, (1,)) / '(1,)type'.\n",
      "  _np_quint16 = np.dtype([(\"quint16\", np.uint16, 1)])\n",
      "D:\\UserGuidePDF\\Anaconda\\lib\\site-packages\\tensorflow\\python\\framework\\dtypes.py:527: FutureWarning: Passing (type, 1) or '1type' as a synonym of type is deprecated; in a future version of numpy, it will be understood as (type, (1,)) / '(1,)type'.\n",
      "  _np_qint32 = np.dtype([(\"qint32\", np.int32, 1)])\n",
      "D:\\UserGuidePDF\\Anaconda\\lib\\site-packages\\tensorflow\\python\\framework\\dtypes.py:532: FutureWarning: Passing (type, 1) or '1type' as a synonym of type is deprecated; in a future version of numpy, it will be understood as (type, (1,)) / '(1,)type'.\n",
      "  np_resource = np.dtype([(\"resource\", np.ubyte, 1)])\n",
      "D:\\UserGuidePDF\\Anaconda\\lib\\site-packages\\tensorboard\\compat\\tensorflow_stub\\dtypes.py:541: FutureWarning: Passing (type, 1) or '1type' as a synonym of type is deprecated; in a future version of numpy, it will be understood as (type, (1,)) / '(1,)type'.\n",
      "  _np_qint8 = np.dtype([(\"qint8\", np.int8, 1)])\n",
      "D:\\UserGuidePDF\\Anaconda\\lib\\site-packages\\tensorboard\\compat\\tensorflow_stub\\dtypes.py:542: FutureWarning: Passing (type, 1) or '1type' as a synonym of type is deprecated; in a future version of numpy, it will be understood as (type, (1,)) / '(1,)type'.\n",
      "  _np_quint8 = np.dtype([(\"quint8\", np.uint8, 1)])\n",
      "D:\\UserGuidePDF\\Anaconda\\lib\\site-packages\\tensorboard\\compat\\tensorflow_stub\\dtypes.py:543: FutureWarning: Passing (type, 1) or '1type' as a synonym of type is deprecated; in a future version of numpy, it will be understood as (type, (1,)) / '(1,)type'.\n",
      "  _np_qint16 = np.dtype([(\"qint16\", np.int16, 1)])\n",
      "D:\\UserGuidePDF\\Anaconda\\lib\\site-packages\\tensorboard\\compat\\tensorflow_stub\\dtypes.py:544: FutureWarning: Passing (type, 1) or '1type' as a synonym of type is deprecated; in a future version of numpy, it will be understood as (type, (1,)) / '(1,)type'.\n",
      "  _np_quint16 = np.dtype([(\"quint16\", np.uint16, 1)])\n",
      "D:\\UserGuidePDF\\Anaconda\\lib\\site-packages\\tensorboard\\compat\\tensorflow_stub\\dtypes.py:545: FutureWarning: Passing (type, 1) or '1type' as a synonym of type is deprecated; in a future version of numpy, it will be understood as (type, (1,)) / '(1,)type'.\n",
      "  _np_qint32 = np.dtype([(\"qint32\", np.int32, 1)])\n",
      "D:\\UserGuidePDF\\Anaconda\\lib\\site-packages\\tensorboard\\compat\\tensorflow_stub\\dtypes.py:550: FutureWarning: Passing (type, 1) or '1type' as a synonym of type is deprecated; in a future version of numpy, it will be understood as (type, (1,)) / '(1,)type'.\n",
      "  np_resource = np.dtype([(\"resource\", np.ubyte, 1)])\n"
     ]
    }
   ],
   "source": [
    "import keras\n",
    "from keras.models import Sequential\n",
    "from keras.layers import Dense\n",
    "from keras.layers import LeakyReLU,PReLU,ELU\n",
    "from keras.layers import Dropout"
   ]
  },
  {
   "cell_type": "code",
   "execution_count": 42,
   "metadata": {},
   "outputs": [],
   "source": [
    "Classifier=Sequential()"
   ]
  },
  {
   "cell_type": "code",
   "execution_count": 44,
   "metadata": {},
   "outputs": [
    {
     "name": "stderr",
     "output_type": "stream",
     "text": [
      "D:\\UserGuidePDF\\Anaconda\\lib\\site-packages\\ipykernel_launcher.py:1: UserWarning: Update your `Dense` call to the Keras 2 API: `Dense(5, activation=\"relu\", input_dim=11, kernel_initializer=\"he_uniform\")`\n",
      "  \"\"\"Entry point for launching an IPython kernel.\n",
      "D:\\UserGuidePDF\\Anaconda\\lib\\site-packages\\ipykernel_launcher.py:2: UserWarning: Update your `Dense` call to the Keras 2 API: `Dense(activation=\"relu\", units=6, kernel_initializer=\"he_uniform\")`\n",
      "  \n",
      "D:\\UserGuidePDF\\Anaconda\\lib\\site-packages\\ipykernel_launcher.py:3: UserWarning: Update your `Dense` call to the Keras 2 API: `Dense(1, activation=\"sigmoid\", kernel_initializer=\"glorot_uniform\")`\n",
      "  This is separate from the ipykernel package so we can avoid doing imports until\n"
     ]
    },
    {
     "name": "stdout",
     "output_type": "stream",
     "text": [
      "Train on 5359 samples, validate on 2641 samples\n",
      "Epoch 1/100\n",
      "5359/5359 [==============================] - 1s 249us/step - loss: 0.5539 - accuracy: 0.7770 - val_loss: 0.5044 - val_accuracy: 0.7955\n",
      "Epoch 2/100\n",
      "5359/5359 [==============================] - 1s 111us/step - loss: 0.4941 - accuracy: 0.7962 - val_loss: 0.4788 - val_accuracy: 0.7955\n",
      "Epoch 3/100\n",
      "5359/5359 [==============================] - 1s 105us/step - loss: 0.4585 - accuracy: 0.7962 - val_loss: 0.4437 - val_accuracy: 0.7955\n",
      "Epoch 4/100\n",
      "5359/5359 [==============================] - 1s 107us/step - loss: 0.4200 - accuracy: 0.7962 - val_loss: 0.4160 - val_accuracy: 0.7955\n",
      "Epoch 5/100\n",
      "5359/5359 [==============================] - ETA: 0s - loss: 0.3968 - accuracy: 0.81 - 1s 110us/step - loss: 0.3953 - accuracy: 0.8177 - val_loss: 0.3999 - val_accuracy: 0.8281\n",
      "Epoch 6/100\n",
      "5359/5359 [==============================] - 1s 116us/step - loss: 0.3819 - accuracy: 0.8416 - val_loss: 0.3939 - val_accuracy: 0.8247\n",
      "Epoch 7/100\n",
      "5359/5359 [==============================] - 1s 115us/step - loss: 0.3737 - accuracy: 0.8468 - val_loss: 0.3882 - val_accuracy: 0.8342\n",
      "Epoch 8/100\n",
      "5359/5359 [==============================] - 1s 111us/step - loss: 0.3688 - accuracy: 0.8423 - val_loss: 0.3853 - val_accuracy: 0.8323\n",
      "Epoch 9/100\n",
      "5359/5359 [==============================] - 1s 114us/step - loss: 0.3641 - accuracy: 0.8483 - val_loss: 0.3823 - val_accuracy: 0.8395\n",
      "Epoch 10/100\n",
      "5359/5359 [==============================] - 1s 116us/step - loss: 0.3614 - accuracy: 0.8498 - val_loss: 0.3808 - val_accuracy: 0.8398\n",
      "Epoch 11/100\n",
      "5359/5359 [==============================] - 1s 114us/step - loss: 0.3593 - accuracy: 0.8507 - val_loss: 0.3804 - val_accuracy: 0.8376\n",
      "Epoch 12/100\n",
      "5359/5359 [==============================] - 1s 107us/step - loss: 0.3576 - accuracy: 0.8526 - val_loss: 0.3799 - val_accuracy: 0.8395\n",
      "Epoch 13/100\n",
      "5359/5359 [==============================] - 1s 106us/step - loss: 0.3556 - accuracy: 0.8528 - val_loss: 0.3804 - val_accuracy: 0.8448\n",
      "Epoch 14/100\n",
      "5359/5359 [==============================] - 1s 110us/step - loss: 0.3552 - accuracy: 0.8505 - val_loss: 0.3781 - val_accuracy: 0.8429\n",
      "Epoch 15/100\n",
      "5359/5359 [==============================] - 1s 118us/step - loss: 0.3531 - accuracy: 0.8558 - val_loss: 0.3875 - val_accuracy: 0.8304\n",
      "Epoch 16/100\n",
      "5359/5359 [==============================] - 1s 110us/step - loss: 0.3522 - accuracy: 0.8550 - val_loss: 0.3769 - val_accuracy: 0.8459\n",
      "Epoch 17/100\n",
      "5359/5359 [==============================] - 1s 116us/step - loss: 0.3510 - accuracy: 0.8587 - val_loss: 0.3754 - val_accuracy: 0.8432\n",
      "Epoch 18/100\n",
      "5359/5359 [==============================] - 1s 117us/step - loss: 0.3489 - accuracy: 0.8584 - val_loss: 0.3744 - val_accuracy: 0.8470\n",
      "Epoch 19/100\n",
      "5359/5359 [==============================] - 1s 116us/step - loss: 0.3480 - accuracy: 0.8558 - val_loss: 0.3745 - val_accuracy: 0.8504\n",
      "Epoch 20/100\n",
      "5359/5359 [==============================] - 1s 117us/step - loss: 0.3464 - accuracy: 0.8593 - val_loss: 0.3734 - val_accuracy: 0.8485\n",
      "Epoch 21/100\n",
      "5359/5359 [==============================] - 1s 117us/step - loss: 0.3448 - accuracy: 0.8627 - val_loss: 0.3719 - val_accuracy: 0.8463\n",
      "Epoch 22/100\n",
      "5359/5359 [==============================] - 1s 117us/step - loss: 0.3448 - accuracy: 0.8587 - val_loss: 0.3744 - val_accuracy: 0.8463\n",
      "Epoch 23/100\n",
      "5359/5359 [==============================] - 1s 115us/step - loss: 0.3437 - accuracy: 0.8595 - val_loss: 0.3699 - val_accuracy: 0.8482\n",
      "Epoch 24/100\n",
      "5359/5359 [==============================] - 1s 115us/step - loss: 0.3435 - accuracy: 0.8569 - val_loss: 0.3688 - val_accuracy: 0.8508\n",
      "Epoch 25/100\n",
      "5359/5359 [==============================] - 1s 116us/step - loss: 0.3433 - accuracy: 0.8567 - val_loss: 0.3684 - val_accuracy: 0.8478\n",
      "Epoch 26/100\n",
      "5359/5359 [==============================] - 1s 106us/step - loss: 0.3425 - accuracy: 0.8593 - val_loss: 0.3670 - val_accuracy: 0.8493\n",
      "Epoch 27/100\n",
      "5359/5359 [==============================] - 1s 107us/step - loss: 0.3426 - accuracy: 0.8587 - val_loss: 0.3664 - val_accuracy: 0.8482\n",
      "Epoch 28/100\n",
      "5359/5359 [==============================] - 1s 111us/step - loss: 0.3414 - accuracy: 0.8591 - val_loss: 0.3679 - val_accuracy: 0.8485\n",
      "Epoch 29/100\n",
      "5359/5359 [==============================] - 1s 116us/step - loss: 0.3415 - accuracy: 0.8587 - val_loss: 0.3667 - val_accuracy: 0.8489\n",
      "Epoch 30/100\n",
      "5359/5359 [==============================] - 1s 117us/step - loss: 0.3412 - accuracy: 0.8569 - val_loss: 0.3674 - val_accuracy: 0.8489\n",
      "Epoch 31/100\n",
      "5359/5359 [==============================] - 1s 117us/step - loss: 0.3401 - accuracy: 0.8593 - val_loss: 0.3692 - val_accuracy: 0.8474\n",
      "Epoch 32/100\n",
      "5359/5359 [==============================] - 1s 116us/step - loss: 0.3395 - accuracy: 0.8606 - val_loss: 0.3668 - val_accuracy: 0.8501\n",
      "Epoch 33/100\n",
      "5359/5359 [==============================] - 1s 118us/step - loss: 0.3408 - accuracy: 0.8615 - val_loss: 0.3668 - val_accuracy: 0.8478\n",
      "Epoch 34/100\n",
      "5359/5359 [==============================] - 1s 115us/step - loss: 0.3403 - accuracy: 0.8574 - val_loss: 0.3682 - val_accuracy: 0.8470\n",
      "Epoch 35/100\n",
      "5359/5359 [==============================] - 1s 111us/step - loss: 0.3393 - accuracy: 0.8606 - val_loss: 0.3678 - val_accuracy: 0.8474\n",
      "Epoch 36/100\n",
      "5359/5359 [==============================] - 1s 115us/step - loss: 0.3394 - accuracy: 0.8595 - val_loss: 0.3705 - val_accuracy: 0.8455\n",
      "Epoch 37/100\n",
      "5359/5359 [==============================] - 1s 115us/step - loss: 0.3390 - accuracy: 0.8572 - val_loss: 0.3651 - val_accuracy: 0.8485\n",
      "Epoch 38/100\n",
      "5359/5359 [==============================] - 1s 115us/step - loss: 0.3395 - accuracy: 0.8621 - val_loss: 0.3648 - val_accuracy: 0.8466\n",
      "Epoch 39/100\n",
      "5359/5359 [==============================] - 1s 106us/step - loss: 0.3388 - accuracy: 0.8614 - val_loss: 0.3659 - val_accuracy: 0.8451\n",
      "Epoch 40/100\n",
      "5359/5359 [==============================] - 1s 111us/step - loss: 0.3383 - accuracy: 0.8602 - val_loss: 0.3648 - val_accuracy: 0.8470\n",
      "Epoch 41/100\n",
      "5359/5359 [==============================] - 1s 111us/step - loss: 0.3387 - accuracy: 0.8604 - val_loss: 0.3664 - val_accuracy: 0.8463\n",
      "Epoch 42/100\n",
      "5359/5359 [==============================] - 1s 114us/step - loss: 0.3390 - accuracy: 0.8608 - val_loss: 0.3719 - val_accuracy: 0.8451\n",
      "Epoch 43/100\n",
      "5359/5359 [==============================] - 1s 110us/step - loss: 0.3391 - accuracy: 0.8587 - val_loss: 0.3637 - val_accuracy: 0.8463\n",
      "Epoch 44/100\n",
      "5359/5359 [==============================] - 1s 111us/step - loss: 0.3373 - accuracy: 0.8619 - val_loss: 0.3663 - val_accuracy: 0.8485\n",
      "Epoch 45/100\n",
      "5359/5359 [==============================] - 1s 111us/step - loss: 0.3382 - accuracy: 0.8627 - val_loss: 0.3638 - val_accuracy: 0.8493\n",
      "Epoch 46/100\n",
      "5359/5359 [==============================] - 1s 110us/step - loss: 0.3375 - accuracy: 0.8604 - val_loss: 0.3641 - val_accuracy: 0.8474\n",
      "Epoch 47/100\n",
      "5359/5359 [==============================] - 1s 111us/step - loss: 0.3359 - accuracy: 0.8625 - val_loss: 0.3716 - val_accuracy: 0.8489\n",
      "Epoch 48/100\n",
      "5359/5359 [==============================] - 1s 111us/step - loss: 0.3374 - accuracy: 0.8610 - val_loss: 0.3650 - val_accuracy: 0.8474\n",
      "Epoch 49/100\n",
      "5359/5359 [==============================] - 1s 111us/step - loss: 0.3376 - accuracy: 0.8627 - val_loss: 0.3650 - val_accuracy: 0.8448\n",
      "Epoch 50/100\n",
      "5359/5359 [==============================] - 1s 111us/step - loss: 0.3364 - accuracy: 0.8640 - val_loss: 0.3650 - val_accuracy: 0.8508\n",
      "Epoch 51/100\n",
      "5359/5359 [==============================] - 1s 109us/step - loss: 0.3356 - accuracy: 0.8627 - val_loss: 0.3667 - val_accuracy: 0.8463\n",
      "Epoch 52/100\n",
      "5359/5359 [==============================] - 1s 111us/step - loss: 0.3365 - accuracy: 0.8578 - val_loss: 0.3653 - val_accuracy: 0.8478\n",
      "Epoch 53/100\n",
      "5359/5359 [==============================] - 1s 102us/step - loss: 0.3357 - accuracy: 0.8628 - val_loss: 0.3696 - val_accuracy: 0.8444\n",
      "Epoch 54/100\n",
      "5359/5359 [==============================] - 1s 104us/step - loss: 0.3364 - accuracy: 0.8610 - val_loss: 0.3635 - val_accuracy: 0.8501\n",
      "Epoch 55/100\n",
      "5359/5359 [==============================] - ETA: 0s - loss: 0.3365 - accuracy: 0.86 - 1s 102us/step - loss: 0.3361 - accuracy: 0.8645 - val_loss: 0.3624 - val_accuracy: 0.8504\n",
      "Epoch 56/100\n",
      "5359/5359 [==============================] - 1s 103us/step - loss: 0.3356 - accuracy: 0.8630 - val_loss: 0.3650 - val_accuracy: 0.8519\n",
      "Epoch 57/100\n",
      "5359/5359 [==============================] - 1s 103us/step - loss: 0.3362 - accuracy: 0.8625 - val_loss: 0.3651 - val_accuracy: 0.8482\n",
      "Epoch 58/100\n",
      "5359/5359 [==============================] - 1s 101us/step - loss: 0.3349 - accuracy: 0.8627 - val_loss: 0.3644 - val_accuracy: 0.8470\n",
      "Epoch 59/100\n",
      "5359/5359 [==============================] - 1s 101us/step - loss: 0.3361 - accuracy: 0.8642 - val_loss: 0.3668 - val_accuracy: 0.8478\n",
      "Epoch 60/100\n",
      "5359/5359 [==============================] - ETA: 0s - loss: 0.3355 - accuracy: 0.8617 ETA: 0s - loss: 0.2934 -  - 1s 103us/step - loss: 0.3362 - accuracy: 0.8623 - val_loss: 0.3633 - val_accuracy: 0.8497\n",
      "Epoch 61/100\n",
      "5359/5359 [==============================] - 1s 103us/step - loss: 0.3356 - accuracy: 0.8647 - val_loss: 0.3626 - val_accuracy: 0.8512\n",
      "Epoch 62/100\n",
      "5359/5359 [==============================] - 1s 103us/step - loss: 0.3353 - accuracy: 0.8628 - val_loss: 0.3660 - val_accuracy: 0.8527oss: 0.3378 - accuracy\n",
      "Epoch 63/100\n",
      "5359/5359 [==============================] - 1s 103us/step - loss: 0.3348 - accuracy: 0.8645 - val_loss: 0.3653 - val_accuracy: 0.8485\n",
      "Epoch 64/100\n",
      "5359/5359 [==============================] - 1s 102us/step - loss: 0.3344 - accuracy: 0.8664 - val_loss: 0.3685 - val_accuracy: 0.8470\n",
      "Epoch 65/100\n",
      "5359/5359 [==============================] - 1s 103us/step - loss: 0.3351 - accuracy: 0.8638 - val_loss: 0.3697 - val_accuracy: 0.8463\n",
      "Epoch 66/100\n",
      "5359/5359 [==============================] - 1s 108us/step - loss: 0.3337 - accuracy: 0.8653 - val_loss: 0.3635 - val_accuracy: 0.8493\n",
      "Epoch 67/100\n",
      "5359/5359 [==============================] - 1s 109us/step - loss: 0.3345 - accuracy: 0.8628 - val_loss: 0.3634 - val_accuracy: 0.8497\n",
      "Epoch 68/100\n",
      "5359/5359 [==============================] - 1s 110us/step - loss: 0.3341 - accuracy: 0.8612 - val_loss: 0.3648 - val_accuracy: 0.8504\n",
      "Epoch 69/100\n",
      "5359/5359 [==============================] - 1s 110us/step - loss: 0.3335 - accuracy: 0.8623 - val_loss: 0.3625 - val_accuracy: 0.8489\n",
      "Epoch 70/100\n",
      "5359/5359 [==============================] - 1s 110us/step - loss: 0.3344 - accuracy: 0.8632 - val_loss: 0.3639 - val_accuracy: 0.8493\n",
      "Epoch 71/100\n",
      "5359/5359 [==============================] - 1s 110us/step - loss: 0.3337 - accuracy: 0.8643 - val_loss: 0.3643 - val_accuracy: 0.8489\n",
      "Epoch 72/100\n",
      "5359/5359 [==============================] - 1s 112us/step - loss: 0.3333 - accuracy: 0.8636 - val_loss: 0.3613 - val_accuracy: 0.8527\n",
      "Epoch 73/100\n",
      "5359/5359 [==============================] - 1s 110us/step - loss: 0.3339 - accuracy: 0.8651 - val_loss: 0.3628 - val_accuracy: 0.8519\n",
      "Epoch 74/100\n",
      "5359/5359 [==============================] - 1s 112us/step - loss: 0.3331 - accuracy: 0.8640 - val_loss: 0.3629 - val_accuracy: 0.8512\n",
      "Epoch 75/100\n",
      "5359/5359 [==============================] - 1s 110us/step - loss: 0.3324 - accuracy: 0.8647 - val_loss: 0.3633 - val_accuracy: 0.8501\n",
      "Epoch 76/100\n",
      "5359/5359 [==============================] - 1s 110us/step - loss: 0.3332 - accuracy: 0.8634 - val_loss: 0.3662 - val_accuracy: 0.8489\n",
      "Epoch 77/100\n",
      "5359/5359 [==============================] - 1s 112us/step - loss: 0.3323 - accuracy: 0.8651 - val_loss: 0.3628 - val_accuracy: 0.8512\n",
      "Epoch 78/100\n",
      "5359/5359 [==============================] - 1s 111us/step - loss: 0.3330 - accuracy: 0.8649 - val_loss: 0.3611 - val_accuracy: 0.8508\n",
      "Epoch 79/100\n",
      "5359/5359 [==============================] - 1s 111us/step - loss: 0.3327 - accuracy: 0.8643 - val_loss: 0.3689 - val_accuracy: 0.8466\n",
      "Epoch 80/100\n",
      "5359/5359 [==============================] - 1s 112us/step - loss: 0.3321 - accuracy: 0.8647 - val_loss: 0.3638 - val_accuracy: 0.8512\n",
      "Epoch 81/100\n",
      "5359/5359 [==============================] - 1s 111us/step - loss: 0.3314 - accuracy: 0.8653 - val_loss: 0.3627 - val_accuracy: 0.8489\n",
      "Epoch 82/100\n",
      "5359/5359 [==============================] - 1s 112us/step - loss: 0.3323 - accuracy: 0.8653 - val_loss: 0.3599 - val_accuracy: 0.8512\n",
      "Epoch 83/100\n",
      "5359/5359 [==============================] - 1s 111us/step - loss: 0.3321 - accuracy: 0.8647 - val_loss: 0.3624 - val_accuracy: 0.8516\n",
      "Epoch 84/100\n",
      "5359/5359 [==============================] - 1s 112us/step - loss: 0.3318 - accuracy: 0.8653 - val_loss: 0.3666 - val_accuracy: 0.8512\n",
      "Epoch 85/100\n",
      "5359/5359 [==============================] - 1s 118us/step - loss: 0.3318 - accuracy: 0.8642 - val_loss: 0.3631 - val_accuracy: 0.8493\n",
      "Epoch 86/100\n",
      "5359/5359 [==============================] - 1s 124us/step - loss: 0.3320 - accuracy: 0.8636 - val_loss: 0.3601 - val_accuracy: 0.8501\n",
      "Epoch 87/100\n",
      "5359/5359 [==============================] - 1s 117us/step - loss: 0.3319 - accuracy: 0.8662 - val_loss: 0.3662 - val_accuracy: 0.8497\n",
      "Epoch 88/100\n",
      "5359/5359 [==============================] - 1s 122us/step - loss: 0.3319 - accuracy: 0.8627 - val_loss: 0.3607 - val_accuracy: 0.8519\n",
      "Epoch 89/100\n",
      "5359/5359 [==============================] - 1s 126us/step - loss: 0.3334 - accuracy: 0.8647 - val_loss: 0.3607 - val_accuracy: 0.8519\n",
      "Epoch 90/100\n",
      "5359/5359 [==============================] - 1s 127us/step - loss: 0.3314 - accuracy: 0.8645 - val_loss: 0.3630 - val_accuracy: 0.8512\n",
      "Epoch 91/100\n",
      "5359/5359 [==============================] - 1s 115us/step - loss: 0.3316 - accuracy: 0.8628 - val_loss: 0.3652 - val_accuracy: 0.8482\n",
      "Epoch 92/100\n",
      "5359/5359 [==============================] - 1s 115us/step - loss: 0.3308 - accuracy: 0.8655 - val_loss: 0.3616 - val_accuracy: 0.8516\n",
      "Epoch 93/100\n",
      "5359/5359 [==============================] - 1s 111us/step - loss: 0.3316 - accuracy: 0.8643 - val_loss: 0.3609 - val_accuracy: 0.8519\n",
      "Epoch 94/100\n",
      "5359/5359 [==============================] - 1s 110us/step - loss: 0.3320 - accuracy: 0.8655 - val_loss: 0.3609 - val_accuracy: 0.8542\n",
      "Epoch 95/100\n",
      "5359/5359 [==============================] - 1s 111us/step - loss: 0.3316 - accuracy: 0.8638 - val_loss: 0.3601 - val_accuracy: 0.8527\n",
      "Epoch 96/100\n",
      "5359/5359 [==============================] - 1s 110us/step - loss: 0.3316 - accuracy: 0.8658 - val_loss: 0.3620 - val_accuracy: 0.8497\n",
      "Epoch 97/100\n",
      "5359/5359 [==============================] - 1s 112us/step - loss: 0.3309 - accuracy: 0.8651 - val_loss: 0.3612 - val_accuracy: 0.8519\n",
      "Epoch 98/100\n",
      "5359/5359 [==============================] - 1s 112us/step - loss: 0.3316 - accuracy: 0.8651 - val_loss: 0.3623 - val_accuracy: 0.8535\n",
      "Epoch 99/100\n",
      "5359/5359 [==============================] - 1s 111us/step - loss: 0.3311 - accuracy: 0.8649 - val_loss: 0.3604 - val_accuracy: 0.8516\n",
      "Epoch 100/100\n",
      "5359/5359 [==============================] - 1s 112us/step - loss: 0.3318 - accuracy: 0.8643 - val_loss: 0.3619 - val_accuracy: 0.8527\n"
     ]
    }
   ],
   "source": [
    "Classifier.add(Dense(5,init = 'he_uniform', activation='relu',input_dim=11))\n",
    "Classifier.add(Dense(output_dim = 6, init = 'he_uniform',activation='relu'))\n",
    "Classifier.add(Dense(1, init = 'glorot_uniform', activation = 'sigmoid'))\n",
    "Classifier.compile(loss='binary_crossentropy',optimizer='adam',metrics=['accuracy'])\n",
    "model_history= Classifier.fit(x_train,y_train,validation_split=0.33, batch_size = 10, epochs=100)\n"
   ]
  },
  {
   "cell_type": "code",
   "execution_count": 49,
   "metadata": {},
   "outputs": [],
   "source": [
    "y_pred = Classifier.predict(x_test)\n",
    "y_pred = (y_pred > 0.5)\n"
   ]
  },
  {
   "cell_type": "code",
   "execution_count": 50,
   "metadata": {},
   "outputs": [
    {
     "data": {
      "text/plain": [
       "array([[False],\n",
       "       [False],\n",
       "       [False],\n",
       "       ...,\n",
       "       [False],\n",
       "       [False],\n",
       "       [False]])"
      ]
     },
     "execution_count": 50,
     "metadata": {},
     "output_type": "execute_result"
    }
   ],
   "source": [
    "y_pred "
   ]
  },
  {
   "cell_type": "code",
   "execution_count": 54,
   "metadata": {},
   "outputs": [
    {
     "data": {
      "text/plain": [
       "array([[1501,   94],\n",
       "       [ 198,  207]], dtype=int64)"
      ]
     },
     "execution_count": 54,
     "metadata": {},
     "output_type": "execute_result"
    }
   ],
   "source": [
    "from sklearn.metrics import confusion_matrix\n",
    "cm = confusion_matrix(y_test, y_pred)\n",
    "cm"
   ]
  },
  {
   "cell_type": "code",
   "execution_count": 52,
   "metadata": {},
   "outputs": [],
   "source": [
    "from sklearn.metrics import accuracy_score\n",
    "score=accuracy_score(y_pred,y_test)"
   ]
  },
  {
   "cell_type": "code",
   "execution_count": 53,
   "metadata": {},
   "outputs": [
    {
     "data": {
      "text/plain": [
       "0.854"
      ]
     },
     "execution_count": 53,
     "metadata": {},
     "output_type": "execute_result"
    }
   ],
   "source": [
    "score"
   ]
  },
  {
   "cell_type": "code",
   "execution_count": null,
   "metadata": {},
   "outputs": [],
   "source": []
  }
 ],
 "metadata": {
  "kernelspec": {
   "display_name": "Python 3",
   "language": "python",
   "name": "python3"
  },
  "language_info": {
   "codemirror_mode": {
    "name": "ipython",
    "version": 3
   },
   "file_extension": ".py",
   "mimetype": "text/x-python",
   "name": "python",
   "nbconvert_exporter": "python",
   "pygments_lexer": "ipython3",
   "version": "3.7.6"
  }
 },
 "nbformat": 4,
 "nbformat_minor": 4
}
