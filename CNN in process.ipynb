{
 "cells": [
  {
   "cell_type": "code",
   "execution_count": 1,
   "metadata": {},
   "outputs": [
    {
     "name": "stderr",
     "output_type": "stream",
     "text": [
      "D:\\UserGuidePDF\\Anaconda\\lib\\site-packages\\tensorflow\\python\\framework\\dtypes.py:523: FutureWarning: Passing (type, 1) or '1type' as a synonym of type is deprecated; in a future version of numpy, it will be understood as (type, (1,)) / '(1,)type'.\n",
      "  _np_qint8 = np.dtype([(\"qint8\", np.int8, 1)])\n",
      "D:\\UserGuidePDF\\Anaconda\\lib\\site-packages\\tensorflow\\python\\framework\\dtypes.py:524: FutureWarning: Passing (type, 1) or '1type' as a synonym of type is deprecated; in a future version of numpy, it will be understood as (type, (1,)) / '(1,)type'.\n",
      "  _np_quint8 = np.dtype([(\"quint8\", np.uint8, 1)])\n",
      "D:\\UserGuidePDF\\Anaconda\\lib\\site-packages\\tensorflow\\python\\framework\\dtypes.py:525: FutureWarning: Passing (type, 1) or '1type' as a synonym of type is deprecated; in a future version of numpy, it will be understood as (type, (1,)) / '(1,)type'.\n",
      "  _np_qint16 = np.dtype([(\"qint16\", np.int16, 1)])\n",
      "D:\\UserGuidePDF\\Anaconda\\lib\\site-packages\\tensorflow\\python\\framework\\dtypes.py:526: FutureWarning: Passing (type, 1) or '1type' as a synonym of type is deprecated; in a future version of numpy, it will be understood as (type, (1,)) / '(1,)type'.\n",
      "  _np_quint16 = np.dtype([(\"quint16\", np.uint16, 1)])\n",
      "D:\\UserGuidePDF\\Anaconda\\lib\\site-packages\\tensorflow\\python\\framework\\dtypes.py:527: FutureWarning: Passing (type, 1) or '1type' as a synonym of type is deprecated; in a future version of numpy, it will be understood as (type, (1,)) / '(1,)type'.\n",
      "  _np_qint32 = np.dtype([(\"qint32\", np.int32, 1)])\n",
      "D:\\UserGuidePDF\\Anaconda\\lib\\site-packages\\tensorflow\\python\\framework\\dtypes.py:532: FutureWarning: Passing (type, 1) or '1type' as a synonym of type is deprecated; in a future version of numpy, it will be understood as (type, (1,)) / '(1,)type'.\n",
      "  np_resource = np.dtype([(\"resource\", np.ubyte, 1)])\n",
      "D:\\UserGuidePDF\\Anaconda\\lib\\site-packages\\tensorboard\\compat\\tensorflow_stub\\dtypes.py:541: FutureWarning: Passing (type, 1) or '1type' as a synonym of type is deprecated; in a future version of numpy, it will be understood as (type, (1,)) / '(1,)type'.\n",
      "  _np_qint8 = np.dtype([(\"qint8\", np.int8, 1)])\n",
      "D:\\UserGuidePDF\\Anaconda\\lib\\site-packages\\tensorboard\\compat\\tensorflow_stub\\dtypes.py:542: FutureWarning: Passing (type, 1) or '1type' as a synonym of type is deprecated; in a future version of numpy, it will be understood as (type, (1,)) / '(1,)type'.\n",
      "  _np_quint8 = np.dtype([(\"quint8\", np.uint8, 1)])\n",
      "D:\\UserGuidePDF\\Anaconda\\lib\\site-packages\\tensorboard\\compat\\tensorflow_stub\\dtypes.py:543: FutureWarning: Passing (type, 1) or '1type' as a synonym of type is deprecated; in a future version of numpy, it will be understood as (type, (1,)) / '(1,)type'.\n",
      "  _np_qint16 = np.dtype([(\"qint16\", np.int16, 1)])\n",
      "D:\\UserGuidePDF\\Anaconda\\lib\\site-packages\\tensorboard\\compat\\tensorflow_stub\\dtypes.py:544: FutureWarning: Passing (type, 1) or '1type' as a synonym of type is deprecated; in a future version of numpy, it will be understood as (type, (1,)) / '(1,)type'.\n",
      "  _np_quint16 = np.dtype([(\"quint16\", np.uint16, 1)])\n",
      "D:\\UserGuidePDF\\Anaconda\\lib\\site-packages\\tensorboard\\compat\\tensorflow_stub\\dtypes.py:545: FutureWarning: Passing (type, 1) or '1type' as a synonym of type is deprecated; in a future version of numpy, it will be understood as (type, (1,)) / '(1,)type'.\n",
      "  _np_qint32 = np.dtype([(\"qint32\", np.int32, 1)])\n",
      "D:\\UserGuidePDF\\Anaconda\\lib\\site-packages\\tensorboard\\compat\\tensorflow_stub\\dtypes.py:550: FutureWarning: Passing (type, 1) or '1type' as a synonym of type is deprecated; in a future version of numpy, it will be understood as (type, (1,)) / '(1,)type'.\n",
      "  np_resource = np.dtype([(\"resource\", np.ubyte, 1)])\n"
     ]
    }
   ],
   "source": [
    "\n",
    "#from tensorflow.keras.layes import flatten,Dense,Conv2d\n",
    "import numpy as np\n",
    "from tensorflow.keras.layers import MaxPooling2D\n",
    "from tensorflow.keras.optimizers import Adam\n",
    "\n"
   ]
  },
  {
   "cell_type": "code",
   "execution_count": 2,
   "metadata": {},
   "outputs": [],
   "source": [
    "from tensorflow.keras.models import Sequential\n",
    "from tensorflow.keras.layers import Flatten,Dense\n",
    "from tensorflow.keras.layers import Conv2D"
   ]
  },
  {
   "cell_type": "code",
   "execution_count": 3,
   "metadata": {},
   "outputs": [],
   "source": [
    "from tensorflow.keras.preprocessing.image import ImageDataGenerator"
   ]
  },
  {
   "cell_type": "code",
   "execution_count": 4,
   "metadata": {},
   "outputs": [],
   "source": [
    "datagen=ImageDataGenerator(rescale=1./255, zoom_range=0.1)\n"
   ]
  },
  {
   "cell_type": "code",
   "execution_count": 5,
   "metadata": {},
   "outputs": [
    {
     "name": "stdout",
     "output_type": "stream",
     "text": [
      "Found 8000 images belonging to 2 classes.\n",
      "Found 2000 images belonging to 2 classes.\n"
     ]
    }
   ],
   "source": [
    "train_data=datagen.flow_from_directory(r\"D:\\RAJ\\AI\\dataset\\training_set\", target_size=(32,32), class_mode='sparse')\n",
    "test_data=datagen.flow_from_directory(r\"D:\\RAJ\\AI\\dataset\\test_set\", target_size=(64,64), class_mode='sparse')"
   ]
  },
  {
   "cell_type": "code",
   "execution_count": 6,
   "metadata": {},
   "outputs": [],
   "source": [
    "model=Sequential()\n",
    "\n",
    "model.add(Conv2D(32, (3, 3), input_shape = (32,32, 3), activation = 'relu'))\n",
    "model.add(MaxPooling2D(pool_size = (2, 2)))\n",
    "\n",
    "model.add(Conv2D(40, (3, 3), activation = 'relu'))\n",
    "model.add(MaxPooling2D(pool_size = (2, 2)))\n",
    "\n",
    "model.add(Conv2D(42, (3, 3), activation = 'relu')) \n",
    "model.add(MaxPooling2D(pool_size = (2, 2)))\n",
    "\n",
    "model.add(Conv2D(52, (2, 2), activation = 'relu')) \n",
    "model.add(MaxPooling2D(pool_size = (1, 1)))\n",
    "\n",
    "#model.add(Conv2D(62, (2, 2), activation = 'relu')) \n",
    "#model.add(MaxPooling2D(pool_size = (1, 1)))\n",
    "model.add(Flatten())\n",
    "model.add(Dense(128,activation='relu'))\n",
    "model.add(Dense(2, activation='softmax'))"
   ]
  },
  {
   "cell_type": "code",
   "execution_count": 7,
   "metadata": {},
   "outputs": [
    {
     "name": "stdout",
     "output_type": "stream",
     "text": [
      "{'cats': 0, 'dogs': 1}\n",
      "{'cats': 0, 'dogs': 1}\n"
     ]
    }
   ],
   "source": [
    "print(train_data.class_indices)\n",
    "print(test_data.class_indices)"
   ]
  },
  {
   "cell_type": "code",
   "execution_count": 8,
   "metadata": {},
   "outputs": [
    {
     "name": "stdout",
     "output_type": "stream",
     "text": [
      "Epoch 1/40\n",
      "250/250 [==============================] - 209s 837ms/step - loss: 0.6823 - accuracy: 0.5451\n",
      "Epoch 2/40\n",
      "250/250 [==============================] - 26s 104ms/step - loss: 0.6185 - accuracy: 0.6561\n",
      "Epoch 3/40\n",
      "250/250 [==============================] - 28s 114ms/step - loss: 0.5704 - accuracy: 0.7065\n",
      "Epoch 4/40\n",
      "250/250 [==============================] - 30s 121ms/step - loss: 0.5368 - accuracy: 0.7258\n",
      "Epoch 5/40\n",
      "250/250 [==============================] - 29s 116ms/step - loss: 0.5020 - accuracy: 0.7510\n",
      "Epoch 6/40\n",
      "250/250 [==============================] - 29s 116ms/step - loss: 0.4835 - accuracy: 0.7626\n",
      "Epoch 7/40\n",
      "250/250 [==============================] - 29s 116ms/step - loss: 0.4608 - accuracy: 0.7815\n",
      "Epoch 8/40\n",
      "250/250 [==============================] - 29s 115ms/step - loss: 0.4441 - accuracy: 0.7855\n",
      "Epoch 9/40\n",
      "250/250 [==============================] - 29s 116ms/step - loss: 0.4187 - accuracy: 0.8048\n",
      "Epoch 10/40\n",
      "250/250 [==============================] - 29s 115ms/step - loss: 0.3946 - accuracy: 0.8195\n",
      "Epoch 11/40\n",
      "250/250 [==============================] - 29s 116ms/step - loss: 0.3773 - accuracy: 0.8288\n",
      "Epoch 12/40\n",
      "250/250 [==============================] - 30s 122ms/step - loss: 0.3597 - accuracy: 0.8391\n",
      "Epoch 13/40\n",
      "250/250 [==============================] - 30s 121ms/step - loss: 0.3405 - accuracy: 0.8479\n",
      "Epoch 14/40\n",
      "250/250 [==============================] - 28s 114ms/step - loss: 0.3221 - accuracy: 0.8622\n",
      "Epoch 15/40\n",
      "250/250 [==============================] - 29s 115ms/step - loss: 0.3068 - accuracy: 0.8671\n",
      "Epoch 16/40\n",
      "250/250 [==============================] - 31s 125ms/step - loss: 0.2977 - accuracy: 0.8741\n",
      "Epoch 17/40\n",
      "250/250 [==============================] - 29s 115ms/step - loss: 0.2793 - accuracy: 0.8805\n",
      "Epoch 18/40\n",
      "250/250 [==============================] - 29s 115ms/step - loss: 0.2706 - accuracy: 0.8817\n",
      "Epoch 19/40\n",
      "250/250 [==============================] - 29s 115ms/step - loss: 0.2498 - accuracy: 0.8945\n",
      "Epoch 20/40\n",
      "250/250 [==============================] - 29s 115ms/step - loss: 0.2407 - accuracy: 0.8996\n",
      "Epoch 21/40\n",
      "250/250 [==============================] - 29s 114ms/step - loss: 0.2221 - accuracy: 0.9099\n",
      "Epoch 22/40\n",
      "250/250 [==============================] - 29s 116ms/step - loss: 0.2190 - accuracy: 0.9082\n",
      "Epoch 23/40\n",
      "250/250 [==============================] - 28s 114ms/step - loss: 0.2124 - accuracy: 0.9107\n",
      "Epoch 24/40\n",
      "250/250 [==============================] - 29s 115ms/step - loss: 0.2034 - accuracy: 0.9140\n",
      "Epoch 25/40\n",
      "250/250 [==============================] - 29s 115ms/step - loss: 0.1910 - accuracy: 0.9235\n",
      "Epoch 26/40\n",
      "250/250 [==============================] - 29s 115ms/step - loss: 0.1817 - accuracy: 0.9243\n",
      "Epoch 27/40\n",
      "250/250 [==============================] - 30s 119ms/step - loss: 0.1639 - accuracy: 0.9346\n",
      "Epoch 28/40\n",
      "250/250 [==============================] - 28s 114ms/step - loss: 0.1640 - accuracy: 0.9345\n",
      "Epoch 29/40\n",
      "250/250 [==============================] - 29s 115ms/step - loss: 0.1629 - accuracy: 0.9339\n",
      "Epoch 30/40\n",
      "250/250 [==============================] - 28s 114ms/step - loss: 0.1587 - accuracy: 0.9344\n",
      "Epoch 31/40\n",
      "250/250 [==============================] - 29s 115ms/step - loss: 0.1587 - accuracy: 0.9366\n",
      "Epoch 32/40\n",
      "250/250 [==============================] - 31s 124ms/step - loss: 0.1410 - accuracy: 0.9426\n",
      "Epoch 33/40\n",
      "250/250 [==============================] - 29s 115ms/step - loss: 0.1397 - accuracy: 0.9449\n",
      "Epoch 34/40\n",
      "250/250 [==============================] - 28s 114ms/step - loss: 0.1403 - accuracy: 0.9426\n",
      "Epoch 35/40\n",
      "250/250 [==============================] - 29s 114ms/step - loss: 0.1345 - accuracy: 0.9452\n",
      "Epoch 36/40\n",
      "250/250 [==============================] - 30s 120ms/step - loss: 0.1215 - accuracy: 0.9535\n",
      "Epoch 37/40\n",
      "250/250 [==============================] - 29s 116ms/step - loss: 0.1306 - accuracy: 0.9501\n",
      "Epoch 38/40\n",
      "250/250 [==============================] - 29s 117ms/step - loss: 0.1224 - accuracy: 0.9504\n",
      "Epoch 39/40\n",
      "250/250 [==============================] - 34s 137ms/step - loss: 0.1113 - accuracy: 0.9561\n",
      "Epoch 40/40\n",
      "250/250 [==============================] - 30s 122ms/step - loss: 0.1233 - accuracy: 0.9523\n"
     ]
    },
    {
     "data": {
      "text/plain": [
       "<tensorflow.python.keras.callbacks.History at 0x1a20ef24488>"
      ]
     },
     "execution_count": 8,
     "metadata": {},
     "output_type": "execute_result"
    }
   ],
   "source": [
    "adam = Adam(lr=0.001)\n",
    "model.compile(optimizer='adam', loss='sparse_categorical_crossentropy',metrics=['accuracy'])\n",
    "model.fit_generator(train_data, epochs=40)"
   ]
  },
  {
   "cell_type": "code",
   "execution_count": 9,
   "metadata": {},
   "outputs": [
    {
     "name": "stdout",
     "output_type": "stream",
     "text": [
      "Model: \"sequential\"\n",
      "_________________________________________________________________\n",
      "Layer (type)                 Output Shape              Param #   \n",
      "=================================================================\n",
      "conv2d (Conv2D)              (None, 30, 30, 32)        896       \n",
      "_________________________________________________________________\n",
      "max_pooling2d (MaxPooling2D) (None, 15, 15, 32)        0         \n",
      "_________________________________________________________________\n",
      "conv2d_1 (Conv2D)            (None, 13, 13, 40)        11560     \n",
      "_________________________________________________________________\n",
      "max_pooling2d_1 (MaxPooling2 (None, 6, 6, 40)          0         \n",
      "_________________________________________________________________\n",
      "conv2d_2 (Conv2D)            (None, 4, 4, 42)          15162     \n",
      "_________________________________________________________________\n",
      "max_pooling2d_2 (MaxPooling2 (None, 2, 2, 42)          0         \n",
      "_________________________________________________________________\n",
      "conv2d_3 (Conv2D)            (None, 1, 1, 52)          8788      \n",
      "_________________________________________________________________\n",
      "max_pooling2d_3 (MaxPooling2 (None, 1, 1, 52)          0         \n",
      "_________________________________________________________________\n",
      "flatten (Flatten)            (None, 52)                0         \n",
      "_________________________________________________________________\n",
      "dense (Dense)                (None, 128)               6784      \n",
      "_________________________________________________________________\n",
      "dense_1 (Dense)              (None, 2)                 258       \n",
      "=================================================================\n",
      "Total params: 43,448\n",
      "Trainable params: 43,448\n",
      "Non-trainable params: 0\n",
      "_________________________________________________________________\n"
     ]
    }
   ],
   "source": [
    "model.summary()"
   ]
  },
  {
   "cell_type": "code",
   "execution_count": 10,
   "metadata": {},
   "outputs": [],
   "source": [
    "model.save(\"D:\\RAJ\\AI\\CNN\\catdogmodel.h5\")"
   ]
  },
  {
   "cell_type": "code",
   "execution_count": 11,
   "metadata": {},
   "outputs": [],
   "source": [
    "from tensorflow.keras.models import load_model"
   ]
  },
  {
   "cell_type": "code",
   "execution_count": 23,
   "metadata": {},
   "outputs": [],
   "source": [
    "model1=load_model=(r\"D:\\RAJ\\AI\\CNN\\catdogmodel.h5\")"
   ]
  },
  {
   "cell_type": "code",
   "execution_count": 24,
   "metadata": {},
   "outputs": [],
   "source": [
    "from tensorflow.keras.preprocessing import image\n",
    "import matplotlib.pyplot as plt\n",
    "import numpy as np"
   ]
  },
  {
   "cell_type": "code",
   "execution_count": 31,
   "metadata": {},
   "outputs": [],
   "source": [
    "img1 = image.load_img (r'D:\\RAJ\\AI\\dataset\\training_set\\cats\\cat.14.jpg', target_size=(32,32))"
   ]
  },
  {
   "cell_type": "code",
   "execution_count": 32,
   "metadata": {},
   "outputs": [
    {
     "data": {
      "image/png": "[encoded data removed]",
      "text/plain": [
       "<PIL.Image.Image image mode=RGB size=32x32 at 0x1A216122788>"
      ]
     },
     "execution_count": 32,
     "metadata": {},
     "output_type": "execute_result"
    }
   ],
   "source": [
    "img1"
   ]
  },
  {
   "cell_type": "code",
   "execution_count": 34,
   "metadata": {},
   "outputs": [],
   "source": [
    "img = image.img_to_array(img1)"
   ]
  },
  {
   "cell_type": "code",
   "execution_count": 35,
   "metadata": {},
   "outputs": [
    {
     "data": {
      "text/plain": [
       "array([[[ 22.,  16.,  16.],\n",
       "        [ 25.,  19.,  19.],\n",
       "        [ 24.,  18.,  18.],\n",
       "        ...,\n",
       "        [ 31.,  25.,  25.],\n",
       "        [ 29.,  23.,  23.],\n",
       "        [ 29.,  23.,  23.]],\n",
       "\n",
       "       [[ 24.,  18.,  18.],\n",
       "        [ 26.,  20.,  20.],\n",
       "        [ 25.,  19.,  19.],\n",
       "        ...,\n",
       "        [ 30.,  24.,  24.],\n",
       "        [ 28.,  22.,  22.],\n",
       "        [ 27.,  21.,  21.]],\n",
       "\n",
       "       [[ 25.,  20.,  17.],\n",
       "        [ 27.,  22.,  19.],\n",
       "        [ 28.,  20.,  18.],\n",
       "        ...,\n",
       "        [ 30.,  25.,  22.],\n",
       "        [ 27.,  22.,  19.],\n",
       "        [ 29.,  24.,  21.]],\n",
       "\n",
       "       ...,\n",
       "\n",
       "       [[125., 100.,  80.],\n",
       "        [140., 108.,  83.],\n",
       "        [157., 130., 109.],\n",
       "        ...,\n",
       "        [116., 100.,  87.],\n",
       "        [110.,  90.,  63.],\n",
       "        [127., 101.,  76.]],\n",
       "\n",
       "       [[137., 107.,  83.],\n",
       "        [146., 109.,  80.],\n",
       "        [150., 120.,  94.],\n",
       "        ...,\n",
       "        [ 67.,  54.,  45.],\n",
       "        [ 86.,  74.,  62.],\n",
       "        [105.,  87.,  77.]],\n",
       "\n",
       "       [[139., 107.,  86.],\n",
       "        [156., 125.,  96.],\n",
       "        [161., 130., 102.],\n",
       "        ...,\n",
       "        [132., 101.,  57.],\n",
       "        [ 77.,  57.,  33.],\n",
       "        [ 57.,  43.,  34.]]], dtype=float32)"
      ]
     },
     "execution_count": 35,
     "metadata": {},
     "output_type": "execute_result"
    }
   ],
   "source": [
    "img"
   ]
  },
  {
   "cell_type": "code",
   "execution_count": 36,
   "metadata": {},
   "outputs": [],
   "source": [
    "img = img/255"
   ]
  },
  {
   "cell_type": "code",
   "execution_count": 37,
   "metadata": {},
   "outputs": [
    {
     "data": {
      "text/plain": [
       "array([[[0.08627451, 0.0627451 , 0.0627451 ],\n",
       "        [0.09803922, 0.07450981, 0.07450981],\n",
       "        [0.09411765, 0.07058824, 0.07058824],\n",
       "        ...,\n",
       "        [0.12156863, 0.09803922, 0.09803922],\n",
       "        [0.11372549, 0.09019608, 0.09019608],\n",
       "        [0.11372549, 0.09019608, 0.09019608]],\n",
       "\n",
       "       [[0.09411765, 0.07058824, 0.07058824],\n",
       "        [0.10196079, 0.07843138, 0.07843138],\n",
       "        [0.09803922, 0.07450981, 0.07450981],\n",
       "        ...,\n",
       "        [0.11764706, 0.09411765, 0.09411765],\n",
       "        [0.10980392, 0.08627451, 0.08627451],\n",
       "        [0.10588235, 0.08235294, 0.08235294]],\n",
       "\n",
       "       [[0.09803922, 0.07843138, 0.06666667],\n",
       "        [0.10588235, 0.08627451, 0.07450981],\n",
       "        [0.10980392, 0.07843138, 0.07058824],\n",
       "        ...,\n",
       "        [0.11764706, 0.09803922, 0.08627451],\n",
       "        [0.10588235, 0.08627451, 0.07450981],\n",
       "        [0.11372549, 0.09411765, 0.08235294]],\n",
       "\n",
       "       ...,\n",
       "\n",
       "       [[0.49019608, 0.39215687, 0.3137255 ],\n",
       "        [0.54901963, 0.42352942, 0.3254902 ],\n",
       "        [0.6156863 , 0.50980395, 0.42745098],\n",
       "        ...,\n",
       "        [0.45490196, 0.39215687, 0.34117648],\n",
       "        [0.43137255, 0.3529412 , 0.24705882],\n",
       "        [0.49803922, 0.39607844, 0.29803923]],\n",
       "\n",
       "       [[0.5372549 , 0.41960785, 0.3254902 ],\n",
       "        [0.57254905, 0.42745098, 0.3137255 ],\n",
       "        [0.5882353 , 0.47058824, 0.36862746],\n",
       "        ...,\n",
       "        [0.2627451 , 0.21176471, 0.1764706 ],\n",
       "        [0.3372549 , 0.2901961 , 0.24313726],\n",
       "        [0.4117647 , 0.34117648, 0.3019608 ]],\n",
       "\n",
       "       [[0.54509807, 0.41960785, 0.3372549 ],\n",
       "        [0.6117647 , 0.49019608, 0.3764706 ],\n",
       "        [0.6313726 , 0.50980395, 0.4       ],\n",
       "        ...,\n",
       "        [0.5176471 , 0.39607844, 0.22352941],\n",
       "        [0.3019608 , 0.22352941, 0.12941177],\n",
       "        [0.22352941, 0.16862746, 0.13333334]]], dtype=float32)"
      ]
     },
     "execution_count": 37,
     "metadata": {},
     "output_type": "execute_result"
    }
   ],
   "source": [
    "img"
   ]
  },
  {
   "cell_type": "code",
   "execution_count": 38,
   "metadata": {},
   "outputs": [],
   "source": [
    "img = np.expand_dims(img, axis=0)"
   ]
  },
  {
   "cell_type": "code",
   "execution_count": 40,
   "metadata": {},
   "outputs": [
    {
     "data": {
      "text/plain": [
       "(1, 32, 32, 3)"
      ]
     },
     "execution_count": 40,
     "metadata": {},
     "output_type": "execute_result"
    }
   ],
   "source": [
    "img.shape"
   ]
  },
  {
   "cell_type": "code",
   "execution_count": 43,
   "metadata": {},
   "outputs": [],
   "source": [
    "prediction = model.predict_classes(img)"
   ]
  },
  {
   "cell_type": "code",
   "execution_count": 44,
   "metadata": {},
   "outputs": [
    {
     "data": {
      "text/plain": [
       "array([0], dtype=int64)"
      ]
     },
     "execution_count": 44,
     "metadata": {},
     "output_type": "execute_result"
    }
   ],
   "source": [
    "prediction"
   ]
  },
  {
   "cell_type": "code",
   "execution_count": 47,
   "metadata": {},
   "outputs": [
    {
     "data": {
      "image/png": "[encoded data removed]",
      "text/plain": [
       "<Figure size 432x288 with 1 Axes>"
      ]
     },
     "metadata": {
      "needs_background": "light"
     },
     "output_type": "display_data"
    }
   ],
   "source": [
    "plt.imshow(img1)\n",
    "plt.show()"
   ]
  },
  {
   "cell_type": "code",
   "execution_count": null,
   "metadata": {},
   "outputs": [],
   "source": []
  }
 ],
 "metadata": {
  "kernelspec": {
   "display_name": "Python 3",
   "language": "python",
   "name": "python3"
  },
  "language_info": {
   "codemirror_mode": {
    "name": "ipython",
    "version": 3
   },
   "file_extension": ".py",
   "mimetype": "text/x-python",
   "name": "python",
   "nbconvert_exporter": "python",
   "pygments_lexer": "ipython3",
   "version": "3.7.6"
  }
 },
 "nbformat": 4,
 "nbformat_minor": 4
}
